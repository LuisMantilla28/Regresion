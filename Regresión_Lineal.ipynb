{
  "nbformat": 4,
  "nbformat_minor": 0,
  "metadata": {
    "colab": {
      "provenance": [],
      "include_colab_link": true
    },
    "kernelspec": {
      "name": "python3",
      "display_name": "Python 3"
    },
    "language_info": {
      "name": "python"
    }
  },
  "cells": [
    {
      "cell_type": "markdown",
      "metadata": {
        "id": "view-in-github",
        "colab_type": "text"
      },
      "source": [
        "<a href=\"https://colab.research.google.com/github/LuisMantilla28/Regresion/blob/main/Regresi%C3%B3n_Lineal.ipynb\" target=\"_parent\"><img src=\"https://colab.research.google.com/assets/colab-badge.svg\" alt=\"Open In Colab\"/></a>"
      ]
    },
    {
      "cell_type": "code",
      "execution_count": 9,
      "metadata": {
        "colab": {
          "base_uri": "https://localhost:8080/",
          "height": 73
        },
        "id": "8YMgb12xaLNh",
        "outputId": "5bce0d79-6196-4f81-9270-baf1e7731542"
      },
      "outputs": [
        {
          "output_type": "display_data",
          "data": {
            "text/plain": [
              "<IPython.core.display.HTML object>"
            ],
            "text/html": [
              "\n",
              "     <input type=\"file\" id=\"files-12a27fd1-12ce-459a-99d5-e9a62d5c0d8c\" name=\"files[]\" multiple disabled\n",
              "        style=\"border:none\" />\n",
              "     <output id=\"result-12a27fd1-12ce-459a-99d5-e9a62d5c0d8c\">\n",
              "      Upload widget is only available when the cell has been executed in the\n",
              "      current browser session. Please rerun this cell to enable.\n",
              "      </output>\n",
              "      <script>// Copyright 2017 Google LLC\n",
              "//\n",
              "// Licensed under the Apache License, Version 2.0 (the \"License\");\n",
              "// you may not use this file except in compliance with the License.\n",
              "// You may obtain a copy of the License at\n",
              "//\n",
              "//      http://www.apache.org/licenses/LICENSE-2.0\n",
              "//\n",
              "// Unless required by applicable law or agreed to in writing, software\n",
              "// distributed under the License is distributed on an \"AS IS\" BASIS,\n",
              "// WITHOUT WARRANTIES OR CONDITIONS OF ANY KIND, either express or implied.\n",
              "// See the License for the specific language governing permissions and\n",
              "// limitations under the License.\n",
              "\n",
              "/**\n",
              " * @fileoverview Helpers for google.colab Python module.\n",
              " */\n",
              "(function(scope) {\n",
              "function span(text, styleAttributes = {}) {\n",
              "  const element = document.createElement('span');\n",
              "  element.textContent = text;\n",
              "  for (const key of Object.keys(styleAttributes)) {\n",
              "    element.style[key] = styleAttributes[key];\n",
              "  }\n",
              "  return element;\n",
              "}\n",
              "\n",
              "// Max number of bytes which will be uploaded at a time.\n",
              "const MAX_PAYLOAD_SIZE = 100 * 1024;\n",
              "\n",
              "function _uploadFiles(inputId, outputId) {\n",
              "  const steps = uploadFilesStep(inputId, outputId);\n",
              "  const outputElement = document.getElementById(outputId);\n",
              "  // Cache steps on the outputElement to make it available for the next call\n",
              "  // to uploadFilesContinue from Python.\n",
              "  outputElement.steps = steps;\n",
              "\n",
              "  return _uploadFilesContinue(outputId);\n",
              "}\n",
              "\n",
              "// This is roughly an async generator (not supported in the browser yet),\n",
              "// where there are multiple asynchronous steps and the Python side is going\n",
              "// to poll for completion of each step.\n",
              "// This uses a Promise to block the python side on completion of each step,\n",
              "// then passes the result of the previous step as the input to the next step.\n",
              "function _uploadFilesContinue(outputId) {\n",
              "  const outputElement = document.getElementById(outputId);\n",
              "  const steps = outputElement.steps;\n",
              "\n",
              "  const next = steps.next(outputElement.lastPromiseValue);\n",
              "  return Promise.resolve(next.value.promise).then((value) => {\n",
              "    // Cache the last promise value to make it available to the next\n",
              "    // step of the generator.\n",
              "    outputElement.lastPromiseValue = value;\n",
              "    return next.value.response;\n",
              "  });\n",
              "}\n",
              "\n",
              "/**\n",
              " * Generator function which is called between each async step of the upload\n",
              " * process.\n",
              " * @param {string} inputId Element ID of the input file picker element.\n",
              " * @param {string} outputId Element ID of the output display.\n",
              " * @return {!Iterable<!Object>} Iterable of next steps.\n",
              " */\n",
              "function* uploadFilesStep(inputId, outputId) {\n",
              "  const inputElement = document.getElementById(inputId);\n",
              "  inputElement.disabled = false;\n",
              "\n",
              "  const outputElement = document.getElementById(outputId);\n",
              "  outputElement.innerHTML = '';\n",
              "\n",
              "  const pickedPromise = new Promise((resolve) => {\n",
              "    inputElement.addEventListener('change', (e) => {\n",
              "      resolve(e.target.files);\n",
              "    });\n",
              "  });\n",
              "\n",
              "  const cancel = document.createElement('button');\n",
              "  inputElement.parentElement.appendChild(cancel);\n",
              "  cancel.textContent = 'Cancel upload';\n",
              "  const cancelPromise = new Promise((resolve) => {\n",
              "    cancel.onclick = () => {\n",
              "      resolve(null);\n",
              "    };\n",
              "  });\n",
              "\n",
              "  // Wait for the user to pick the files.\n",
              "  const files = yield {\n",
              "    promise: Promise.race([pickedPromise, cancelPromise]),\n",
              "    response: {\n",
              "      action: 'starting',\n",
              "    }\n",
              "  };\n",
              "\n",
              "  cancel.remove();\n",
              "\n",
              "  // Disable the input element since further picks are not allowed.\n",
              "  inputElement.disabled = true;\n",
              "\n",
              "  if (!files) {\n",
              "    return {\n",
              "      response: {\n",
              "        action: 'complete',\n",
              "      }\n",
              "    };\n",
              "  }\n",
              "\n",
              "  for (const file of files) {\n",
              "    const li = document.createElement('li');\n",
              "    li.append(span(file.name, {fontWeight: 'bold'}));\n",
              "    li.append(span(\n",
              "        `(${file.type || 'n/a'}) - ${file.size} bytes, ` +\n",
              "        `last modified: ${\n",
              "            file.lastModifiedDate ? file.lastModifiedDate.toLocaleDateString() :\n",
              "                                    'n/a'} - `));\n",
              "    const percent = span('0% done');\n",
              "    li.appendChild(percent);\n",
              "\n",
              "    outputElement.appendChild(li);\n",
              "\n",
              "    const fileDataPromise = new Promise((resolve) => {\n",
              "      const reader = new FileReader();\n",
              "      reader.onload = (e) => {\n",
              "        resolve(e.target.result);\n",
              "      };\n",
              "      reader.readAsArrayBuffer(file);\n",
              "    });\n",
              "    // Wait for the data to be ready.\n",
              "    let fileData = yield {\n",
              "      promise: fileDataPromise,\n",
              "      response: {\n",
              "        action: 'continue',\n",
              "      }\n",
              "    };\n",
              "\n",
              "    // Use a chunked sending to avoid message size limits. See b/62115660.\n",
              "    let position = 0;\n",
              "    do {\n",
              "      const length = Math.min(fileData.byteLength - position, MAX_PAYLOAD_SIZE);\n",
              "      const chunk = new Uint8Array(fileData, position, length);\n",
              "      position += length;\n",
              "\n",
              "      const base64 = btoa(String.fromCharCode.apply(null, chunk));\n",
              "      yield {\n",
              "        response: {\n",
              "          action: 'append',\n",
              "          file: file.name,\n",
              "          data: base64,\n",
              "        },\n",
              "      };\n",
              "\n",
              "      let percentDone = fileData.byteLength === 0 ?\n",
              "          100 :\n",
              "          Math.round((position / fileData.byteLength) * 100);\n",
              "      percent.textContent = `${percentDone}% done`;\n",
              "\n",
              "    } while (position < fileData.byteLength);\n",
              "  }\n",
              "\n",
              "  // All done.\n",
              "  yield {\n",
              "    response: {\n",
              "      action: 'complete',\n",
              "    }\n",
              "  };\n",
              "}\n",
              "\n",
              "scope.google = scope.google || {};\n",
              "scope.google.colab = scope.google.colab || {};\n",
              "scope.google.colab._files = {\n",
              "  _uploadFiles,\n",
              "  _uploadFilesContinue,\n",
              "};\n",
              "})(self);\n",
              "</script> "
            ]
          },
          "metadata": {}
        },
        {
          "output_type": "stream",
          "name": "stdout",
          "text": [
            "Saving natalidad.csv to natalidad.csv\n"
          ]
        }
      ],
      "source": [
        "from google.colab import files # Para cargar archivos en google colab\n",
        "uploaded = files.upload()"
      ]
    },
    {
      "cell_type": "code",
      "source": [
        "import pandas as pd\n",
        "import io\n",
        "tabla = pd.read_csv(io.BytesIO(uploaded['natalidad.csv']), sep = \";\")\n",
        "tabla.head(3)"
      ],
      "metadata": {
        "colab": {
          "base_uri": "https://localhost:8080/",
          "height": 366
        },
        "id": "n0T3jt-kpay3",
        "outputId": "8b1c19ac-1668-4382-c131-53a97e41ffda"
      },
      "execution_count": 10,
      "outputs": [
        {
          "output_type": "stream",
          "name": "stderr",
          "text": [
            "<ipython-input-10-27fefab69396>:3: DtypeWarning: Columns (4,14,22,28) have mixed types. Specify dtype option on import or set low_memory=False.\n",
            "  tabla = pd.read_csv(io.BytesIO(uploaded['natalidad.csv']), sep = \";\")\n"
          ]
        },
        {
          "output_type": "execute_result",
          "data": {
            "text/plain": [
              "   id  areanac  cod_insp  sit_parto otro_sit  \\\n",
              "0   1        1       NaN          1      NaN   \n",
              "1   2        1       NaN          1      NaN   \n",
              "2   3        1       NaN          1      NaN   \n",
              "\n",
              "                            nom_inst      cod_inst  sexo  peso_nac  talla_nac  \\\n",
              "0  PROMOTORA MEDICA LAS AMERICAS S.A  5.001021e+10     2      1070         38   \n",
              "1             CLINICA DEL PRADO S.A.  5.001046e+10     2      2900         47   \n",
              "2  CLINICA UNIVERSITARIA BOLIVARIANA  5.001034e+10     2      2510         48   \n",
              "\n",
              "   ... n_emb  seg_social  idclasadmi  \\\n",
              "0  ...     4           1         1.0   \n",
              "1  ...     1           1         1.0   \n",
              "2  ...     2           5         NaN   \n",
              "\n",
              "                                     nomclasad codclasad  edad_padre  \\\n",
              "0                       COOMEVA   E.P.S.  S.A.    EPS016          42   \n",
              "1  SALUD TOTAL S.A. ENTIDAD PROMOTORA DE SALUD    EPS002          25   \n",
              "2                                          NaN       NaN          34   \n",
              "\n",
              "   niv_edup  ultcurpad     barrio_res     comuna_res  \n",
              "0         4         11      El Rincón       16 Belen  \n",
              "1        99          9  Versalles N.2    03 Manrique  \n",
              "2         8          3   Santa Mónica  12 La America  \n",
              "\n",
              "[3 rows x 41 columns]"
            ],
            "text/html": [
              "\n",
              "  <div id=\"df-9fd0b372-4e9c-4f18-937f-aea7d046d99f\" class=\"colab-df-container\">\n",
              "    <div>\n",
              "<style scoped>\n",
              "    .dataframe tbody tr th:only-of-type {\n",
              "        vertical-align: middle;\n",
              "    }\n",
              "\n",
              "    .dataframe tbody tr th {\n",
              "        vertical-align: top;\n",
              "    }\n",
              "\n",
              "    .dataframe thead th {\n",
              "        text-align: right;\n",
              "    }\n",
              "</style>\n",
              "<table border=\"1\" class=\"dataframe\">\n",
              "  <thead>\n",
              "    <tr style=\"text-align: right;\">\n",
              "      <th></th>\n",
              "      <th>id</th>\n",
              "      <th>areanac</th>\n",
              "      <th>cod_insp</th>\n",
              "      <th>sit_parto</th>\n",
              "      <th>otro_sit</th>\n",
              "      <th>nom_inst</th>\n",
              "      <th>cod_inst</th>\n",
              "      <th>sexo</th>\n",
              "      <th>peso_nac</th>\n",
              "      <th>talla_nac</th>\n",
              "      <th>...</th>\n",
              "      <th>n_emb</th>\n",
              "      <th>seg_social</th>\n",
              "      <th>idclasadmi</th>\n",
              "      <th>nomclasad</th>\n",
              "      <th>codclasad</th>\n",
              "      <th>edad_padre</th>\n",
              "      <th>niv_edup</th>\n",
              "      <th>ultcurpad</th>\n",
              "      <th>barrio_res</th>\n",
              "      <th>comuna_res</th>\n",
              "    </tr>\n",
              "  </thead>\n",
              "  <tbody>\n",
              "    <tr>\n",
              "      <th>0</th>\n",
              "      <td>1</td>\n",
              "      <td>1</td>\n",
              "      <td>NaN</td>\n",
              "      <td>1</td>\n",
              "      <td>NaN</td>\n",
              "      <td>PROMOTORA MEDICA LAS AMERICAS S.A</td>\n",
              "      <td>5.001021e+10</td>\n",
              "      <td>2</td>\n",
              "      <td>1070</td>\n",
              "      <td>38</td>\n",
              "      <td>...</td>\n",
              "      <td>4</td>\n",
              "      <td>1</td>\n",
              "      <td>1.0</td>\n",
              "      <td>COOMEVA   E.P.S.  S.A.</td>\n",
              "      <td>EPS016</td>\n",
              "      <td>42</td>\n",
              "      <td>4</td>\n",
              "      <td>11</td>\n",
              "      <td>El Rincón</td>\n",
              "      <td>16 Belen</td>\n",
              "    </tr>\n",
              "    <tr>\n",
              "      <th>1</th>\n",
              "      <td>2</td>\n",
              "      <td>1</td>\n",
              "      <td>NaN</td>\n",
              "      <td>1</td>\n",
              "      <td>NaN</td>\n",
              "      <td>CLINICA DEL PRADO S.A.</td>\n",
              "      <td>5.001046e+10</td>\n",
              "      <td>2</td>\n",
              "      <td>2900</td>\n",
              "      <td>47</td>\n",
              "      <td>...</td>\n",
              "      <td>1</td>\n",
              "      <td>1</td>\n",
              "      <td>1.0</td>\n",
              "      <td>SALUD TOTAL S.A. ENTIDAD PROMOTORA DE SALUD</td>\n",
              "      <td>EPS002</td>\n",
              "      <td>25</td>\n",
              "      <td>99</td>\n",
              "      <td>9</td>\n",
              "      <td>Versalles N.2</td>\n",
              "      <td>03 Manrique</td>\n",
              "    </tr>\n",
              "    <tr>\n",
              "      <th>2</th>\n",
              "      <td>3</td>\n",
              "      <td>1</td>\n",
              "      <td>NaN</td>\n",
              "      <td>1</td>\n",
              "      <td>NaN</td>\n",
              "      <td>CLINICA UNIVERSITARIA BOLIVARIANA</td>\n",
              "      <td>5.001034e+10</td>\n",
              "      <td>2</td>\n",
              "      <td>2510</td>\n",
              "      <td>48</td>\n",
              "      <td>...</td>\n",
              "      <td>2</td>\n",
              "      <td>5</td>\n",
              "      <td>NaN</td>\n",
              "      <td>NaN</td>\n",
              "      <td>NaN</td>\n",
              "      <td>34</td>\n",
              "      <td>8</td>\n",
              "      <td>3</td>\n",
              "      <td>Santa Mónica</td>\n",
              "      <td>12 La America</td>\n",
              "    </tr>\n",
              "  </tbody>\n",
              "</table>\n",
              "<p>3 rows × 41 columns</p>\n",
              "</div>\n",
              "    <div class=\"colab-df-buttons\">\n",
              "\n",
              "  <div class=\"colab-df-container\">\n",
              "    <button class=\"colab-df-convert\" onclick=\"convertToInteractive('df-9fd0b372-4e9c-4f18-937f-aea7d046d99f')\"\n",
              "            title=\"Convert this dataframe to an interactive table.\"\n",
              "            style=\"display:none;\">\n",
              "\n",
              "  <svg xmlns=\"http://www.w3.org/2000/svg\" height=\"24px\" viewBox=\"0 -960 960 960\">\n",
              "    <path d=\"M120-120v-720h720v720H120Zm60-500h600v-160H180v160Zm220 220h160v-160H400v160Zm0 220h160v-160H400v160ZM180-400h160v-160H180v160Zm440 0h160v-160H620v160ZM180-180h160v-160H180v160Zm440 0h160v-160H620v160Z\"/>\n",
              "  </svg>\n",
              "    </button>\n",
              "\n",
              "  <style>\n",
              "    .colab-df-container {\n",
              "      display:flex;\n",
              "      gap: 12px;\n",
              "    }\n",
              "\n",
              "    .colab-df-convert {\n",
              "      background-color: #E8F0FE;\n",
              "      border: none;\n",
              "      border-radius: 50%;\n",
              "      cursor: pointer;\n",
              "      display: none;\n",
              "      fill: #1967D2;\n",
              "      height: 32px;\n",
              "      padding: 0 0 0 0;\n",
              "      width: 32px;\n",
              "    }\n",
              "\n",
              "    .colab-df-convert:hover {\n",
              "      background-color: #E2EBFA;\n",
              "      box-shadow: 0px 1px 2px rgba(60, 64, 67, 0.3), 0px 1px 3px 1px rgba(60, 64, 67, 0.15);\n",
              "      fill: #174EA6;\n",
              "    }\n",
              "\n",
              "    .colab-df-buttons div {\n",
              "      margin-bottom: 4px;\n",
              "    }\n",
              "\n",
              "    [theme=dark] .colab-df-convert {\n",
              "      background-color: #3B4455;\n",
              "      fill: #D2E3FC;\n",
              "    }\n",
              "\n",
              "    [theme=dark] .colab-df-convert:hover {\n",
              "      background-color: #434B5C;\n",
              "      box-shadow: 0px 1px 3px 1px rgba(0, 0, 0, 0.15);\n",
              "      filter: drop-shadow(0px 1px 2px rgba(0, 0, 0, 0.3));\n",
              "      fill: #FFFFFF;\n",
              "    }\n",
              "  </style>\n",
              "\n",
              "    <script>\n",
              "      const buttonEl =\n",
              "        document.querySelector('#df-9fd0b372-4e9c-4f18-937f-aea7d046d99f button.colab-df-convert');\n",
              "      buttonEl.style.display =\n",
              "        google.colab.kernel.accessAllowed ? 'block' : 'none';\n",
              "\n",
              "      async function convertToInteractive(key) {\n",
              "        const element = document.querySelector('#df-9fd0b372-4e9c-4f18-937f-aea7d046d99f');\n",
              "        const dataTable =\n",
              "          await google.colab.kernel.invokeFunction('convertToInteractive',\n",
              "                                                    [key], {});\n",
              "        if (!dataTable) return;\n",
              "\n",
              "        const docLinkHtml = 'Like what you see? Visit the ' +\n",
              "          '<a target=\"_blank\" href=https://colab.research.google.com/notebooks/data_table.ipynb>data table notebook</a>'\n",
              "          + ' to learn more about interactive tables.';\n",
              "        element.innerHTML = '';\n",
              "        dataTable['output_type'] = 'display_data';\n",
              "        await google.colab.output.renderOutput(dataTable, element);\n",
              "        const docLink = document.createElement('div');\n",
              "        docLink.innerHTML = docLinkHtml;\n",
              "        element.appendChild(docLink);\n",
              "      }\n",
              "    </script>\n",
              "  </div>\n",
              "\n",
              "\n",
              "<div id=\"df-9e1a3783-6f3c-489e-b1ce-734f8737ef1c\">\n",
              "  <button class=\"colab-df-quickchart\" onclick=\"quickchart('df-9e1a3783-6f3c-489e-b1ce-734f8737ef1c')\"\n",
              "            title=\"Suggest charts.\"\n",
              "            style=\"display:none;\">\n",
              "\n",
              "<svg xmlns=\"http://www.w3.org/2000/svg\" height=\"24px\"viewBox=\"0 0 24 24\"\n",
              "     width=\"24px\">\n",
              "    <g>\n",
              "        <path d=\"M19 3H5c-1.1 0-2 .9-2 2v14c0 1.1.9 2 2 2h14c1.1 0 2-.9 2-2V5c0-1.1-.9-2-2-2zM9 17H7v-7h2v7zm4 0h-2V7h2v10zm4 0h-2v-4h2v4z\"/>\n",
              "    </g>\n",
              "</svg>\n",
              "  </button>\n",
              "\n",
              "<style>\n",
              "  .colab-df-quickchart {\n",
              "      --bg-color: #E8F0FE;\n",
              "      --fill-color: #1967D2;\n",
              "      --hover-bg-color: #E2EBFA;\n",
              "      --hover-fill-color: #174EA6;\n",
              "      --disabled-fill-color: #AAA;\n",
              "      --disabled-bg-color: #DDD;\n",
              "  }\n",
              "\n",
              "  [theme=dark] .colab-df-quickchart {\n",
              "      --bg-color: #3B4455;\n",
              "      --fill-color: #D2E3FC;\n",
              "      --hover-bg-color: #434B5C;\n",
              "      --hover-fill-color: #FFFFFF;\n",
              "      --disabled-bg-color: #3B4455;\n",
              "      --disabled-fill-color: #666;\n",
              "  }\n",
              "\n",
              "  .colab-df-quickchart {\n",
              "    background-color: var(--bg-color);\n",
              "    border: none;\n",
              "    border-radius: 50%;\n",
              "    cursor: pointer;\n",
              "    display: none;\n",
              "    fill: var(--fill-color);\n",
              "    height: 32px;\n",
              "    padding: 0;\n",
              "    width: 32px;\n",
              "  }\n",
              "\n",
              "  .colab-df-quickchart:hover {\n",
              "    background-color: var(--hover-bg-color);\n",
              "    box-shadow: 0 1px 2px rgba(60, 64, 67, 0.3), 0 1px 3px 1px rgba(60, 64, 67, 0.15);\n",
              "    fill: var(--button-hover-fill-color);\n",
              "  }\n",
              "\n",
              "  .colab-df-quickchart-complete:disabled,\n",
              "  .colab-df-quickchart-complete:disabled:hover {\n",
              "    background-color: var(--disabled-bg-color);\n",
              "    fill: var(--disabled-fill-color);\n",
              "    box-shadow: none;\n",
              "  }\n",
              "\n",
              "  .colab-df-spinner {\n",
              "    border: 2px solid var(--fill-color);\n",
              "    border-color: transparent;\n",
              "    border-bottom-color: var(--fill-color);\n",
              "    animation:\n",
              "      spin 1s steps(1) infinite;\n",
              "  }\n",
              "\n",
              "  @keyframes spin {\n",
              "    0% {\n",
              "      border-color: transparent;\n",
              "      border-bottom-color: var(--fill-color);\n",
              "      border-left-color: var(--fill-color);\n",
              "    }\n",
              "    20% {\n",
              "      border-color: transparent;\n",
              "      border-left-color: var(--fill-color);\n",
              "      border-top-color: var(--fill-color);\n",
              "    }\n",
              "    30% {\n",
              "      border-color: transparent;\n",
              "      border-left-color: var(--fill-color);\n",
              "      border-top-color: var(--fill-color);\n",
              "      border-right-color: var(--fill-color);\n",
              "    }\n",
              "    40% {\n",
              "      border-color: transparent;\n",
              "      border-right-color: var(--fill-color);\n",
              "      border-top-color: var(--fill-color);\n",
              "    }\n",
              "    60% {\n",
              "      border-color: transparent;\n",
              "      border-right-color: var(--fill-color);\n",
              "    }\n",
              "    80% {\n",
              "      border-color: transparent;\n",
              "      border-right-color: var(--fill-color);\n",
              "      border-bottom-color: var(--fill-color);\n",
              "    }\n",
              "    90% {\n",
              "      border-color: transparent;\n",
              "      border-bottom-color: var(--fill-color);\n",
              "    }\n",
              "  }\n",
              "</style>\n",
              "\n",
              "  <script>\n",
              "    async function quickchart(key) {\n",
              "      const quickchartButtonEl =\n",
              "        document.querySelector('#' + key + ' button');\n",
              "      quickchartButtonEl.disabled = true;  // To prevent multiple clicks.\n",
              "      quickchartButtonEl.classList.add('colab-df-spinner');\n",
              "      try {\n",
              "        const charts = await google.colab.kernel.invokeFunction(\n",
              "            'suggestCharts', [key], {});\n",
              "      } catch (error) {\n",
              "        console.error('Error during call to suggestCharts:', error);\n",
              "      }\n",
              "      quickchartButtonEl.classList.remove('colab-df-spinner');\n",
              "      quickchartButtonEl.classList.add('colab-df-quickchart-complete');\n",
              "    }\n",
              "    (() => {\n",
              "      let quickchartButtonEl =\n",
              "        document.querySelector('#df-9e1a3783-6f3c-489e-b1ce-734f8737ef1c button');\n",
              "      quickchartButtonEl.style.display =\n",
              "        google.colab.kernel.accessAllowed ? 'block' : 'none';\n",
              "    })();\n",
              "  </script>\n",
              "</div>\n",
              "    </div>\n",
              "  </div>\n"
            ]
          },
          "metadata": {},
          "execution_count": 10
        }
      ]
    },
    {
      "cell_type": "markdown",
      "source": [
        "Tres variables sobre las cuáles se tiene interés corresponden a peso del recién nacido (en Kg), edad en años de la madre y tiempo de gestación en semanas. Se quiere determinar si el peso de un bebé recién nacido aumenta a medida que lo hacen tanto el tiempo de gestación y la edad de la madre durante el embarazo."
      ],
      "metadata": {
        "id": "tuQGnDbDY1FT"
      }
    },
    {
      "cell_type": "code",
      "source": [
        "X, Y, Z = tabla[\"peso_nac\"], tabla[\"t_ges\"], tabla[\"edad_madre\"]  # La variable regresora, la variable respuesta\n",
        "print(X.head(3))\n",
        "print(Y.head(3))\n",
        "print(Z.head(3))"
      ],
      "metadata": {
        "colab": {
          "base_uri": "https://localhost:8080/"
        },
        "id": "of1ZBF6ZpmCV",
        "outputId": "ce9c8769-bd38-4e6b-daf3-c2ffb7630fd9"
      },
      "execution_count": 11,
      "outputs": [
        {
          "output_type": "stream",
          "name": "stdout",
          "text": [
            "0    1070\n",
            "1    2900\n",
            "2    2510\n",
            "Name: peso_nac, dtype: int64\n",
            "0    30\n",
            "1    40\n",
            "2    36\n",
            "Name: t_ges, dtype: int64\n",
            "0    39\n",
            "1    21\n",
            "2    37\n",
            "Name: edad_madre, dtype: int64\n"
          ]
        }
      ]
    },
    {
      "cell_type": "markdown",
      "source": [
        "Notemos que hay datos atípicos (en realidad ilógicos porque un bebé recién nacido no puede pesar más de 6 kilos y su madre no puede tener más de 80 años) los cuáles se hace necesario eliminar"
      ],
      "metadata": {
        "id": "9RdI4b4PZCtE"
      }
    },
    {
      "cell_type": "code",
      "source": [
        "sin_atipicos = tabla[(tabla[\"peso_nac\"] < 6000) & (tabla[\"t_ges\"] < 50)]\n",
        "print(sin_atipicos.head())\n"
      ],
      "metadata": {
        "colab": {
          "base_uri": "https://localhost:8080/"
        },
        "id": "Agv98t2pqqGp",
        "outputId": "90db3153-a902-42ae-8c35-b5683009f098"
      },
      "execution_count": 12,
      "outputs": [
        {
          "output_type": "stream",
          "name": "stdout",
          "text": [
            "   id  areanac  cod_insp  sit_parto otro_sit  \\\n",
            "0   1        1       NaN          1      NaN   \n",
            "1   2        1       NaN          1      NaN   \n",
            "2   3        1       NaN          1      NaN   \n",
            "3   4        1       NaN          1      NaN   \n",
            "4   5        1       NaN          1      NaN   \n",
            "\n",
            "                                            nom_inst      cod_inst  sexo  \\\n",
            "0                  PROMOTORA MEDICA LAS AMERICAS S.A  5.001021e+10     2   \n",
            "1                             CLINICA DEL PRADO S.A.  5.001046e+10     2   \n",
            "2                  CLINICA UNIVERSITARIA BOLIVARIANA  5.001034e+10     2   \n",
            "3  UNIDAD HOSPITALARIA DE MANRRIQUE HERMENEGILDO ...  5.001022e+10     1   \n",
            "4  UNIDAD HOSPITALARIA DE MANRRIQUE HERMENEGILDO ...  5.001022e+10     1   \n",
            "\n",
            "   peso_nac  talla_nac  ... n_emb  seg_social  idclasadmi  \\\n",
            "0      1070         38  ...     4           1         1.0   \n",
            "1      2900         47  ...     1           1         1.0   \n",
            "2      2510         48  ...     2           5         NaN   \n",
            "3      3400         50  ...     1           5         NaN   \n",
            "4      3760         53  ...     3           2         2.0   \n",
            "\n",
            "                                           nomclasad codclasad  edad_padre  \\\n",
            "0                             COOMEVA   E.P.S.  S.A.    EPS016          42   \n",
            "1        SALUD TOTAL S.A. ENTIDAD PROMOTORA DE SALUD    EPS002          25   \n",
            "2                                                NaN       NaN          34   \n",
            "3                                                NaN       NaN          24   \n",
            "4  COMFAMA ANTIOQUIA- CAJA DE COMPENSACION FAMILI...    CCF002          41   \n",
            "\n",
            "   niv_edup  ultcurpad     barrio_res        comuna_res  \n",
            "0         4         11      El Rincón          16 Belen  \n",
            "1        99          9  Versalles N.2       03 Manrique  \n",
            "2         8          3   Santa Mónica     12 La America  \n",
            "3        99          9         Enciso  08 Villa Hermosa  \n",
            "4         2          5      San Diego  10 La Candelaria  \n",
            "\n",
            "[5 rows x 41 columns]\n"
          ]
        }
      ]
    },
    {
      "cell_type": "code",
      "source": [
        "tabla1 = pd.concat([sin_atipicos[\"peso_nac\"], sin_atipicos[\"t_ges\"],  sin_atipicos[\"edad_madre\"]], axis = 1)\n",
        "print(tabla1.head())"
      ],
      "metadata": {
        "colab": {
          "base_uri": "https://localhost:8080/"
        },
        "id": "myUTbWx-qqVO",
        "outputId": "555a2661-8e72-452f-c778-689d7ddb05c9"
      },
      "execution_count": 13,
      "outputs": [
        {
          "output_type": "stream",
          "name": "stdout",
          "text": [
            "   peso_nac  t_ges  edad_madre\n",
            "0      1070     30          39\n",
            "1      2900     40          21\n",
            "2      2510     36          37\n",
            "3      3400     41          22\n",
            "4      3760     39          40\n"
          ]
        }
      ]
    },
    {
      "cell_type": "markdown",
      "source": [
        "Acá se quiere determinar en la medida en que el bebé pesa más al nacer ocurre cuando su madre tiene más años durante el embarazo. En el diagrama de dispersión se observa que si un bebé nace con mayor peso, su madre puede tener más edad."
      ],
      "metadata": {
        "id": "MqG6d3NfZN0u"
      }
    },
    {
      "cell_type": "code",
      "source": [
        "import matplotlib.pyplot as plt\n",
        "plt.figure(figsize=(5, 5))\n",
        "plt.scatter(tabla1[\"peso_nac\"], tabla1[\"t_ges\"])\n",
        "plt.show()"
      ],
      "metadata": {
        "colab": {
          "base_uri": "https://localhost:8080/",
          "height": 445
        },
        "id": "tzYBIALdrzuI",
        "outputId": "144f077c-4e6f-4a15-aad3-85e2597d2da0"
      },
      "execution_count": 14,
      "outputs": [
        {
          "output_type": "display_data",
          "data": {
            "text/plain": [
              "<Figure size 500x500 with 1 Axes>"
            ],
            "image/png": "[encoded data removed]"
          },
          "metadata": {}
        }
      ]
    },
    {
      "cell_type": "markdown",
      "source": [
        "Seleccionamos los datos de entrenamiento y de prueba. El criterio corresponde a seleccionar el 30% de los datos para prueba de manera aleatoria"
      ],
      "metadata": {
        "id": "hpYDL4sYZc5D"
      }
    },
    {
      "cell_type": "code",
      "source": [
        "from sklearn.model_selection import train_test_split # Acá vamos a seleccionar los datos de entrenamiento y de prueba\n",
        "x_train, x_test, y_train, y_test, z_train, z_test= train_test_split(tabla1[\"peso_nac\"], tabla1[\"t_ges\"], tabla1[\"edad_madre\"], test_size = 0.3)\n",
        " # Escogemos el 30% de los datos para prueba\n",
        "print(x_train, y_train, z_train)\n",
        "yz_train = pd.concat([y_train, z_train], axis=1)\n",
        "print(yz_train)\n",
        "yz_test = pd.concat([y_test, z_test], axis=1)\n"
      ],
      "metadata": {
        "colab": {
          "base_uri": "https://localhost:8080/"
        },
        "id": "GyKO6zgduB2E",
        "outputId": "3f3970dd-cc2b-410a-97e5-fb7033d36342"
      },
      "execution_count": 18,
      "outputs": [
        {
          "output_type": "stream",
          "name": "stdout",
          "text": [
            "41717     3050\n",
            "72689     3310\n",
            "151632    2540\n",
            "44973     3920\n",
            "178841    3280\n",
            "          ... \n",
            "41734     2360\n",
            "87722     3242\n",
            "270       2670\n",
            "167895    3120\n",
            "46391     3431\n",
            "Name: peso_nac, Length: 137613, dtype: int64 41717     39\n",
            "72689     39\n",
            "151632    35\n",
            "44973     39\n",
            "178841    41\n",
            "          ..\n",
            "41734     36\n",
            "87722     40\n",
            "270       36\n",
            "167895    40\n",
            "46391     38\n",
            "Name: t_ges, Length: 137613, dtype: int64 41717     25\n",
            "72689     21\n",
            "151632    22\n",
            "44973     27\n",
            "178841    19\n",
            "          ..\n",
            "41734     20\n",
            "87722     33\n",
            "270       29\n",
            "167895    31\n",
            "46391     35\n",
            "Name: edad_madre, Length: 137613, dtype: int64\n",
            "        t_ges  edad_madre\n",
            "41717      39          25\n",
            "72689      39          21\n",
            "151632     35          22\n",
            "44973      39          27\n",
            "178841     41          19\n",
            "...       ...         ...\n",
            "41734      36          20\n",
            "87722      40          33\n",
            "270        36          29\n",
            "167895     40          31\n",
            "46391      38          35\n",
            "\n",
            "[137613 rows x 2 columns]\n"
          ]
        }
      ]
    },
    {
      "cell_type": "markdown",
      "source": [
        "Ahora entrenamos el modelo con los datos de entrenamiento escogidos. Se utiliza el modelo de regresión lineal. En este caso dado por:\n",
        "\n",
        "$$Peso_{nacido} = \\beta_1 tiempo_{gestación}+ \\beta_2 edad_{madre} + \\epsilon$$\n"
      ],
      "metadata": {
        "id": "51yKUdjtZlks"
      }
    },
    {
      "cell_type": "code",
      "source": [
        "\n",
        "import numpy as np\n",
        "from sklearn.linear_model import LinearRegression\n",
        "modelo = LinearRegression()\n",
        "modelo.fit(yz_train, x_train)"
      ],
      "metadata": {
        "id": "h2StwvFmwA-T",
        "colab": {
          "base_uri": "https://localhost:8080/",
          "height": 74
        },
        "outputId": "3655f1e0-745f-4b1f-b971-fc34b7665485"
      },
      "execution_count": 19,
      "outputs": [
        {
          "output_type": "execute_result",
          "data": {
            "text/plain": [
              "LinearRegression()"
            ],
            "text/html": [
              "<style>#sk-container-id-1 {color: black;background-color: white;}#sk-container-id-1 pre{padding: 0;}#sk-container-id-1 div.sk-toggleable {background-color: white;}#sk-container-id-1 label.sk-toggleable__label {cursor: pointer;display: block;width: 100%;margin-bottom: 0;padding: 0.3em;box-sizing: border-box;text-align: center;}#sk-container-id-1 label.sk-toggleable__label-arrow:before {content: \"▸\";float: left;margin-right: 0.25em;color: #696969;}#sk-container-id-1 label.sk-toggleable__label-arrow:hover:before {color: black;}#sk-container-id-1 div.sk-estimator:hover label.sk-toggleable__label-arrow:before {color: black;}#sk-container-id-1 div.sk-toggleable__content {max-height: 0;max-width: 0;overflow: hidden;text-align: left;background-color: #f0f8ff;}#sk-container-id-1 div.sk-toggleable__content pre {margin: 0.2em;color: black;border-radius: 0.25em;background-color: #f0f8ff;}#sk-container-id-1 input.sk-toggleable__control:checked~div.sk-toggleable__content {max-height: 200px;max-width: 100%;overflow: auto;}#sk-container-id-1 input.sk-toggleable__control:checked~label.sk-toggleable__label-arrow:before {content: \"▾\";}#sk-container-id-1 div.sk-estimator input.sk-toggleable__control:checked~label.sk-toggleable__label {background-color: #d4ebff;}#sk-container-id-1 div.sk-label input.sk-toggleable__control:checked~label.sk-toggleable__label {background-color: #d4ebff;}#sk-container-id-1 input.sk-hidden--visually {border: 0;clip: rect(1px 1px 1px 1px);clip: rect(1px, 1px, 1px, 1px);height: 1px;margin: -1px;overflow: hidden;padding: 0;position: absolute;width: 1px;}#sk-container-id-1 div.sk-estimator {font-family: monospace;background-color: #f0f8ff;border: 1px dotted black;border-radius: 0.25em;box-sizing: border-box;margin-bottom: 0.5em;}#sk-container-id-1 div.sk-estimator:hover {background-color: #d4ebff;}#sk-container-id-1 div.sk-parallel-item::after {content: \"\";width: 100%;border-bottom: 1px solid gray;flex-grow: 1;}#sk-container-id-1 div.sk-label:hover label.sk-toggleable__label {background-color: #d4ebff;}#sk-container-id-1 div.sk-serial::before {content: \"\";position: absolute;border-left: 1px solid gray;box-sizing: border-box;top: 0;bottom: 0;left: 50%;z-index: 0;}#sk-container-id-1 div.sk-serial {display: flex;flex-direction: column;align-items: center;background-color: white;padding-right: 0.2em;padding-left: 0.2em;position: relative;}#sk-container-id-1 div.sk-item {position: relative;z-index: 1;}#sk-container-id-1 div.sk-parallel {display: flex;align-items: stretch;justify-content: center;background-color: white;position: relative;}#sk-container-id-1 div.sk-item::before, #sk-container-id-1 div.sk-parallel-item::before {content: \"\";position: absolute;border-left: 1px solid gray;box-sizing: border-box;top: 0;bottom: 0;left: 50%;z-index: -1;}#sk-container-id-1 div.sk-parallel-item {display: flex;flex-direction: column;z-index: 1;position: relative;background-color: white;}#sk-container-id-1 div.sk-parallel-item:first-child::after {align-self: flex-end;width: 50%;}#sk-container-id-1 div.sk-parallel-item:last-child::after {align-self: flex-start;width: 50%;}#sk-container-id-1 div.sk-parallel-item:only-child::after {width: 0;}#sk-container-id-1 div.sk-dashed-wrapped {border: 1px dashed gray;margin: 0 0.4em 0.5em 0.4em;box-sizing: border-box;padding-bottom: 0.4em;background-color: white;}#sk-container-id-1 div.sk-label label {font-family: monospace;font-weight: bold;display: inline-block;line-height: 1.2em;}#sk-container-id-1 div.sk-label-container {text-align: center;}#sk-container-id-1 div.sk-container {/* jupyter's `normalize.less` sets `[hidden] { display: none; }` but bootstrap.min.css set `[hidden] { display: none !important; }` so we also need the `!important` here to be able to override the default hidden behavior on the sphinx rendered scikit-learn.org. See: https://github.com/scikit-learn/scikit-learn/issues/21755 */display: inline-block !important;position: relative;}#sk-container-id-1 div.sk-text-repr-fallback {display: none;}</style><div id=\"sk-container-id-1\" class=\"sk-top-container\"><div class=\"sk-text-repr-fallback\"><pre>LinearRegression()</pre><b>In a Jupyter environment, please rerun this cell to show the HTML representation or trust the notebook. <br />On GitHub, the HTML representation is unable to render, please try loading this page with nbviewer.org.</b></div><div class=\"sk-container\" hidden><div class=\"sk-item\"><div class=\"sk-estimator sk-toggleable\"><input class=\"sk-toggleable__control sk-hidden--visually\" id=\"sk-estimator-id-1\" type=\"checkbox\" checked><label for=\"sk-estimator-id-1\" class=\"sk-toggleable__label sk-toggleable__label-arrow\">LinearRegression</label><div class=\"sk-toggleable__content\"><pre>LinearRegression()</pre></div></div></div></div></div>"
            ]
          },
          "metadata": {},
          "execution_count": 19
        }
      ]
    },
    {
      "cell_type": "markdown",
      "source": [],
      "metadata": {
        "id": "vC5qo0ODSdmA"
      }
    },
    {
      "cell_type": "code",
      "source": [
        "print(\"El intersecto del modelo es: \", modelo.intercept_)\n",
        "print(\"coeficiente:\", list(zip(yz_train, modelo.coef_.flatten(), )))"
      ],
      "metadata": {
        "colab": {
          "base_uri": "https://localhost:8080/"
        },
        "id": "JQLl41ZUSwoe",
        "outputId": "dda2bdb6-b9bd-4c20-8285-7cec2474cffc"
      },
      "execution_count": 20,
      "outputs": [
        {
          "output_type": "stream",
          "name": "stdout",
          "text": [
            "El intersecto del modelo es:  -3935.7050016314106\n",
            "coeficiente: [('t_ges', 179.38250833818321), ('edad_madre', 4.965388367432553)]\n"
          ]
        }
      ]
    },
    {
      "cell_type": "markdown",
      "source": [
        "También podemos determinar las medidas de ajuste sobre el parámetro."
      ],
      "metadata": {
        "id": "HruZjeisao1J"
      }
    },
    {
      "cell_type": "markdown",
      "source": [
        "El peso del recién nacido: -3945.821+ 179.85 (Tiempo de gestación) + 4.702 (Edad de madre)"
      ],
      "metadata": {
        "id": "syFHcd8ITtq4"
      }
    },
    {
      "cell_type": "code",
      "source": [
        "print(\"coeficiente de determinación:\", modelo.score(yz_test, x_test))"
      ],
      "metadata": {
        "colab": {
          "base_uri": "https://localhost:8080/"
        },
        "id": "nGgyR2vCULK9",
        "outputId": "85519f10-d075-4ca2-a0ea-b75448a32f25"
      },
      "execution_count": 22,
      "outputs": [
        {
          "output_type": "stream",
          "name": "stdout",
          "text": [
            "coeficiente de determinación: 0.46364253355254736\n"
          ]
        }
      ]
    },
    {
      "cell_type": "markdown",
      "source": [
        "calcular el cuadrado medio del error"
      ],
      "metadata": {
        "id": "idz7h_l2YYxg"
      }
    },
    {
      "cell_type": "code",
      "source": [
        "from sklearn.metrics import mean_squared_error\n",
        "predicciones = modelo.predict(yz_test)\n",
        "print(predicciones)\n",
        "rmse = mean_squared_error(y_true  = x_test, y_pred  = predicciones, squared = True)\n",
        "print(\"El cuadrado medio del error es: \", rmse)"
      ],
      "metadata": {
        "id": "99y_mFLkYdG_",
        "colab": {
          "base_uri": "https://localhost:8080/"
        },
        "outputId": "9223f6ed-7c04-473d-c511-11bcca24f00a"
      },
      "execution_count": 23,
      "outputs": [
        {
          "output_type": "stream",
          "name": "stdout",
          "text": [
            "[3199.24369785 2975.1726942  3438.21086659 ... 3224.07063968 2790.8247975\n",
            " 3004.96502441]\n",
            "El cuadrado medio del error es:  134280.56171498392\n"
          ]
        }
      ]
    },
    {
      "cell_type": "code",
      "source": [
        "modelo.predict(yz_train)"
      ],
      "metadata": {
        "colab": {
          "base_uri": "https://localhost:8080/"
        },
        "id": "XbGdHqNXa6jo",
        "outputId": "662d944c-6cd4-4f7b-81bb-affed96d6ce9"
      },
      "execution_count": 24,
      "outputs": [
        {
          "output_type": "execute_result",
          "data": {
            "text/plain": [
              "array([3184.34753274, 3164.48597927, 2451.92133429, ..., 2666.0615612 ,\n",
              "       3393.52237129, 3054.61890808])"
            ]
          },
          "metadata": {},
          "execution_count": 24
        }
      ]
    },
    {
      "cell_type": "code",
      "source": [
        "import statsmodels.api as sm\n",
        "import statsmodels.formula.api as smf\n",
        "X = tabla1[[\"t_ges\", \"edad_madre\"]]\n",
        "Y = tabla1[\"peso_nac\"]\n",
        "X_train, X_test, Y_train, Y_test = train_test_split(\n",
        "                                        X,\n",
        "                                        Y.values.reshape(-1,1),\n",
        "                                        train_size   = 0.8,\n",
        "                                        random_state = 1234,\n",
        "                                        shuffle      = True\n",
        "                                    )"
      ],
      "metadata": {
        "id": "JaOy3XBfa__O"
      },
      "execution_count": 25,
      "outputs": []
    },
    {
      "cell_type": "code",
      "source": [
        "X_train = sm.add_constant(X_train, prepend=True)\n",
        "modelo1 = sm.OLS(endog=Y_train, exog=X_train,)\n",
        "modelo1 = modelo1.fit()\n",
        "print(modelo1.summary())"
      ],
      "metadata": {
        "colab": {
          "base_uri": "https://localhost:8080/"
        },
        "id": "O-E9nGsJbEAm",
        "outputId": "9d10cdd6-f700-47f0-b29b-8cfdfaae9de2"
      },
      "execution_count": 27,
      "outputs": [
        {
          "output_type": "stream",
          "name": "stdout",
          "text": [
            "                            OLS Regression Results                            \n",
            "==============================================================================\n",
            "Dep. Variable:                      y   R-squared:                       0.461\n",
            "Model:                            OLS   Adj. R-squared:                  0.461\n",
            "Method:                 Least Squares   F-statistic:                 6.738e+04\n",
            "Date:                Tue, 10 Oct 2023   Prob (F-statistic):               0.00\n",
            "Time:                        11:50:27   Log-Likelihood:            -1.1509e+06\n",
            "No. Observations:              157272   AIC:                         2.302e+06\n",
            "Df Residuals:                  157269   BIC:                         2.302e+06\n",
            "Df Model:                           2                                         \n",
            "Covariance Type:            nonrobust                                         \n",
            "==============================================================================\n",
            "                 coef    std err          t      P>|t|      [0.025      0.975]\n",
            "------------------------------------------------------------------------------\n",
            "const      -3954.6892     19.293   -204.980      0.000   -3992.503   -3916.875\n",
            "t_ges        179.9108      0.491    366.549      0.000     178.949     180.873\n",
            "edad_madre     4.9126      0.142     34.559      0.000       4.634       5.191\n",
            "==============================================================================\n",
            "Omnibus:                     2681.408   Durbin-Watson:                   1.993\n",
            "Prob(Omnibus):                  0.000   Jarque-Bera (JB):             3744.765\n",
            "Skew:                           0.213   Prob(JB):                         0.00\n",
            "Kurtosis:                       3.624   Cond. No.                         970.\n",
            "==============================================================================\n",
            "\n",
            "Notes:\n",
            "[1] Standard Errors assume that the covariance matrix of the errors is correctly specified.\n"
          ]
        }
      ]
    },
    {
      "cell_type": "code",
      "source": [
        "intervalos_ci = modelo1.conf_int(alpha=0.05)\n",
        "intervalos_ci.columns = ['2.5%', '97.5%']\n",
        "intervalos_ci"
      ],
      "metadata": {
        "colab": {
          "base_uri": "https://localhost:8080/",
          "height": 143
        },
        "id": "ayNN-icDbQBZ",
        "outputId": "81f0d60e-4421-4bf2-86fe-e1ad945620a7"
      },
      "execution_count": 28,
      "outputs": [
        {
          "output_type": "execute_result",
          "data": {
            "text/plain": [
              "                   2.5%        97.5%\n",
              "const      -3992.503115 -3916.875316\n",
              "t_ges        178.948814   180.872819\n",
              "edad_madre     4.633959     5.191182"
            ],
            "text/html": [
              "\n",
              "  <div id=\"df-85c7f4b0-a8d7-432f-8ff4-1aa7fa665a5d\" class=\"colab-df-container\">\n",
              "    <div>\n",
              "<style scoped>\n",
              "    .dataframe tbody tr th:only-of-type {\n",
              "        vertical-align: middle;\n",
              "    }\n",
              "\n",
              "    .dataframe tbody tr th {\n",
              "        vertical-align: top;\n",
              "    }\n",
              "\n",
              "    .dataframe thead th {\n",
              "        text-align: right;\n",
              "    }\n",
              "</style>\n",
              "<table border=\"1\" class=\"dataframe\">\n",
              "  <thead>\n",
              "    <tr style=\"text-align: right;\">\n",
              "      <th></th>\n",
              "      <th>2.5%</th>\n",
              "      <th>97.5%</th>\n",
              "    </tr>\n",
              "  </thead>\n",
              "  <tbody>\n",
              "    <tr>\n",
              "      <th>const</th>\n",
              "      <td>-3992.503115</td>\n",
              "      <td>-3916.875316</td>\n",
              "    </tr>\n",
              "    <tr>\n",
              "      <th>t_ges</th>\n",
              "      <td>178.948814</td>\n",
              "      <td>180.872819</td>\n",
              "    </tr>\n",
              "    <tr>\n",
              "      <th>edad_madre</th>\n",
              "      <td>4.633959</td>\n",
              "      <td>5.191182</td>\n",
              "    </tr>\n",
              "  </tbody>\n",
              "</table>\n",
              "</div>\n",
              "    <div class=\"colab-df-buttons\">\n",
              "\n",
              "  <div class=\"colab-df-container\">\n",
              "    <button class=\"colab-df-convert\" onclick=\"convertToInteractive('df-85c7f4b0-a8d7-432f-8ff4-1aa7fa665a5d')\"\n",
              "            title=\"Convert this dataframe to an interactive table.\"\n",
              "            style=\"display:none;\">\n",
              "\n",
              "  <svg xmlns=\"http://www.w3.org/2000/svg\" height=\"24px\" viewBox=\"0 -960 960 960\">\n",
              "    <path d=\"M120-120v-720h720v720H120Zm60-500h600v-160H180v160Zm220 220h160v-160H400v160Zm0 220h160v-160H400v160ZM180-400h160v-160H180v160Zm440 0h160v-160H620v160ZM180-180h160v-160H180v160Zm440 0h160v-160H620v160Z\"/>\n",
              "  </svg>\n",
              "    </button>\n",
              "\n",
              "  <style>\n",
              "    .colab-df-container {\n",
              "      display:flex;\n",
              "      gap: 12px;\n",
              "    }\n",
              "\n",
              "    .colab-df-convert {\n",
              "      background-color: #E8F0FE;\n",
              "      border: none;\n",
              "      border-radius: 50%;\n",
              "      cursor: pointer;\n",
              "      display: none;\n",
              "      fill: #1967D2;\n",
              "      height: 32px;\n",
              "      padding: 0 0 0 0;\n",
              "      width: 32px;\n",
              "    }\n",
              "\n",
              "    .colab-df-convert:hover {\n",
              "      background-color: #E2EBFA;\n",
              "      box-shadow: 0px 1px 2px rgba(60, 64, 67, 0.3), 0px 1px 3px 1px rgba(60, 64, 67, 0.15);\n",
              "      fill: #174EA6;\n",
              "    }\n",
              "\n",
              "    .colab-df-buttons div {\n",
              "      margin-bottom: 4px;\n",
              "    }\n",
              "\n",
              "    [theme=dark] .colab-df-convert {\n",
              "      background-color: #3B4455;\n",
              "      fill: #D2E3FC;\n",
              "    }\n",
              "\n",
              "    [theme=dark] .colab-df-convert:hover {\n",
              "      background-color: #434B5C;\n",
              "      box-shadow: 0px 1px 3px 1px rgba(0, 0, 0, 0.15);\n",
              "      filter: drop-shadow(0px 1px 2px rgba(0, 0, 0, 0.3));\n",
              "      fill: #FFFFFF;\n",
              "    }\n",
              "  </style>\n",
              "\n",
              "    <script>\n",
              "      const buttonEl =\n",
              "        document.querySelector('#df-85c7f4b0-a8d7-432f-8ff4-1aa7fa665a5d button.colab-df-convert');\n",
              "      buttonEl.style.display =\n",
              "        google.colab.kernel.accessAllowed ? 'block' : 'none';\n",
              "\n",
              "      async function convertToInteractive(key) {\n",
              "        const element = document.querySelector('#df-85c7f4b0-a8d7-432f-8ff4-1aa7fa665a5d');\n",
              "        const dataTable =\n",
              "          await google.colab.kernel.invokeFunction('convertToInteractive',\n",
              "                                                    [key], {});\n",
              "        if (!dataTable) return;\n",
              "\n",
              "        const docLinkHtml = 'Like what you see? Visit the ' +\n",
              "          '<a target=\"_blank\" href=https://colab.research.google.com/notebooks/data_table.ipynb>data table notebook</a>'\n",
              "          + ' to learn more about interactive tables.';\n",
              "        element.innerHTML = '';\n",
              "        dataTable['output_type'] = 'display_data';\n",
              "        await google.colab.output.renderOutput(dataTable, element);\n",
              "        const docLink = document.createElement('div');\n",
              "        docLink.innerHTML = docLinkHtml;\n",
              "        element.appendChild(docLink);\n",
              "      }\n",
              "    </script>\n",
              "  </div>\n",
              "\n",
              "\n",
              "<div id=\"df-000f728c-fafd-4482-aa1d-b79839ba9530\">\n",
              "  <button class=\"colab-df-quickchart\" onclick=\"quickchart('df-000f728c-fafd-4482-aa1d-b79839ba9530')\"\n",
              "            title=\"Suggest charts.\"\n",
              "            style=\"display:none;\">\n",
              "\n",
              "<svg xmlns=\"http://www.w3.org/2000/svg\" height=\"24px\"viewBox=\"0 0 24 24\"\n",
              "     width=\"24px\">\n",
              "    <g>\n",
              "        <path d=\"M19 3H5c-1.1 0-2 .9-2 2v14c0 1.1.9 2 2 2h14c1.1 0 2-.9 2-2V5c0-1.1-.9-2-2-2zM9 17H7v-7h2v7zm4 0h-2V7h2v10zm4 0h-2v-4h2v4z\"/>\n",
              "    </g>\n",
              "</svg>\n",
              "  </button>\n",
              "\n",
              "<style>\n",
              "  .colab-df-quickchart {\n",
              "      --bg-color: #E8F0FE;\n",
              "      --fill-color: #1967D2;\n",
              "      --hover-bg-color: #E2EBFA;\n",
              "      --hover-fill-color: #174EA6;\n",
              "      --disabled-fill-color: #AAA;\n",
              "      --disabled-bg-color: #DDD;\n",
              "  }\n",
              "\n",
              "  [theme=dark] .colab-df-quickchart {\n",
              "      --bg-color: #3B4455;\n",
              "      --fill-color: #D2E3FC;\n",
              "      --hover-bg-color: #434B5C;\n",
              "      --hover-fill-color: #FFFFFF;\n",
              "      --disabled-bg-color: #3B4455;\n",
              "      --disabled-fill-color: #666;\n",
              "  }\n",
              "\n",
              "  .colab-df-quickchart {\n",
              "    background-color: var(--bg-color);\n",
              "    border: none;\n",
              "    border-radius: 50%;\n",
              "    cursor: pointer;\n",
              "    display: none;\n",
              "    fill: var(--fill-color);\n",
              "    height: 32px;\n",
              "    padding: 0;\n",
              "    width: 32px;\n",
              "  }\n",
              "\n",
              "  .colab-df-quickchart:hover {\n",
              "    background-color: var(--hover-bg-color);\n",
              "    box-shadow: 0 1px 2px rgba(60, 64, 67, 0.3), 0 1px 3px 1px rgba(60, 64, 67, 0.15);\n",
              "    fill: var(--button-hover-fill-color);\n",
              "  }\n",
              "\n",
              "  .colab-df-quickchart-complete:disabled,\n",
              "  .colab-df-quickchart-complete:disabled:hover {\n",
              "    background-color: var(--disabled-bg-color);\n",
              "    fill: var(--disabled-fill-color);\n",
              "    box-shadow: none;\n",
              "  }\n",
              "\n",
              "  .colab-df-spinner {\n",
              "    border: 2px solid var(--fill-color);\n",
              "    border-color: transparent;\n",
              "    border-bottom-color: var(--fill-color);\n",
              "    animation:\n",
              "      spin 1s steps(1) infinite;\n",
              "  }\n",
              "\n",
              "  @keyframes spin {\n",
              "    0% {\n",
              "      border-color: transparent;\n",
              "      border-bottom-color: var(--fill-color);\n",
              "      border-left-color: var(--fill-color);\n",
              "    }\n",
              "    20% {\n",
              "      border-color: transparent;\n",
              "      border-left-color: var(--fill-color);\n",
              "      border-top-color: var(--fill-color);\n",
              "    }\n",
              "    30% {\n",
              "      border-color: transparent;\n",
              "      border-left-color: var(--fill-color);\n",
              "      border-top-color: var(--fill-color);\n",
              "      border-right-color: var(--fill-color);\n",
              "    }\n",
              "    40% {\n",
              "      border-color: transparent;\n",
              "      border-right-color: var(--fill-color);\n",
              "      border-top-color: var(--fill-color);\n",
              "    }\n",
              "    60% {\n",
              "      border-color: transparent;\n",
              "      border-right-color: var(--fill-color);\n",
              "    }\n",
              "    80% {\n",
              "      border-color: transparent;\n",
              "      border-right-color: var(--fill-color);\n",
              "      border-bottom-color: var(--fill-color);\n",
              "    }\n",
              "    90% {\n",
              "      border-color: transparent;\n",
              "      border-bottom-color: var(--fill-color);\n",
              "    }\n",
              "  }\n",
              "</style>\n",
              "\n",
              "  <script>\n",
              "    async function quickchart(key) {\n",
              "      const quickchartButtonEl =\n",
              "        document.querySelector('#' + key + ' button');\n",
              "      quickchartButtonEl.disabled = true;  // To prevent multiple clicks.\n",
              "      quickchartButtonEl.classList.add('colab-df-spinner');\n",
              "      try {\n",
              "        const charts = await google.colab.kernel.invokeFunction(\n",
              "            'suggestCharts', [key], {});\n",
              "      } catch (error) {\n",
              "        console.error('Error during call to suggestCharts:', error);\n",
              "      }\n",
              "      quickchartButtonEl.classList.remove('colab-df-spinner');\n",
              "      quickchartButtonEl.classList.add('colab-df-quickchart-complete');\n",
              "    }\n",
              "    (() => {\n",
              "      let quickchartButtonEl =\n",
              "        document.querySelector('#df-000f728c-fafd-4482-aa1d-b79839ba9530 button');\n",
              "      quickchartButtonEl.style.display =\n",
              "        google.colab.kernel.accessAllowed ? 'block' : 'none';\n",
              "    })();\n",
              "  </script>\n",
              "</div>\n",
              "    </div>\n",
              "  </div>\n"
            ]
          },
          "metadata": {},
          "execution_count": 28
        }
      ]
    },
    {
      "cell_type": "markdown",
      "source": [
        "A continuación se presenta el diagrama de dispersión junto con el plano de regresión. Obsérvese que a medida que aumenta el tiempo de gestación y en menor medida la edad de la madre, aumenta el peso del recién nacido. Se muestra los datos de entrenamiento (azul) y los de prueba (púrpura). Nótese que es similar el ajuste para ambos tipos de datos"
      ],
      "metadata": {
        "id": "D01uwYMnbTjp"
      }
    },
    {
      "cell_type": "code",
      "source": [
        "from mpl_toolkits.mplot3d import Axes3D\n",
        "import seaborn as sb\n",
        "import matplotlib.pyplot as plt\n",
        "\n",
        "fig = plt.figure(figsize=((10,8)))\n",
        "ax = fig.add_subplot(projection='3d')\n",
        "xx, yy = np.meshgrid(np.linspace(18, 45, num=10), np.linspace(0, 60, num=10))\n",
        "nuevoX = (modelo.coef_[0] * xx)\n",
        "nuevoY = (modelo.coef_[1] * yy)\n",
        "\n",
        "x = (nuevoX + nuevoY + modelo.intercept_)\n",
        "ax.plot_surface(xx, yy, x, alpha=0.2, cmap='hot')\n",
        "ax.scatter(yz_train[\"t_ges\"], yz_train[\"edad_madre\"], x_train, c='blue',s=30)\n",
        "ax.scatter(yz_test[\"t_ges\"], yz_test[\"edad_madre\"], x_test, c='purple',s=30)\n",
        "ax.view_init(elev=30., azim=65)\n",
        "\n",
        "ax.set_xlabel('Peso del recién nacido')\n",
        "ax.set_ylabel('Edad de la madre')\n",
        "ax.set_zlabel('Tiempo de gestación')\n",
        "ax.set_title('Regresión Lineal con Múltiples Variables')\n",
        "\n",
        "plt.show()"
      ],
      "metadata": {
        "colab": {
          "base_uri": "https://localhost:8080/",
          "height": 675
        },
        "id": "xWbQVxuObUbJ",
        "outputId": "938445af-439d-48e6-f351-b22aa38bc49d"
      },
      "execution_count": 29,
      "outputs": [
        {
          "output_type": "display_data",
          "data": {
            "text/plain": [
              "<Figure size 1000x800 with 1 Axes>"
            ],
            "image/png": "[encoded data removed]"
          },
          "metadata": {}
        }
      ]
    },
    {
      "cell_type": "markdown",
      "source": [
        "Evaluamos ahora qué tan bueno es el ajuste del modelo para nuestros datos. Para ello calculamos el coeficiente de determinación para los datos de prueba. El coeficiente de casi 0.46 indica que hay un bajo ajuste de los datos al modelo propuesto, por lo que debería tomarse otro modelo"
      ],
      "metadata": {
        "id": "dC5pci9rbbqw"
      }
    },
    {
      "cell_type": "code",
      "source": [
        "yz_test = pd.concat([y_test, z_test], axis=1)\n",
        "r2 = modelo.score(yz_test, x_test)\n",
        "r2"
      ],
      "metadata": {
        "colab": {
          "base_uri": "https://localhost:8080/"
        },
        "id": "oZ_sl4tvbdRX",
        "outputId": "9732954d-ecb2-4c37-9cad-8ba4c73ea882"
      },
      "execution_count": 30,
      "outputs": [
        {
          "output_type": "execute_result",
          "data": {
            "text/plain": [
              "0.46364253355254736"
            ]
          },
          "metadata": {},
          "execution_count": 30
        }
      ]
    }
  ]
}